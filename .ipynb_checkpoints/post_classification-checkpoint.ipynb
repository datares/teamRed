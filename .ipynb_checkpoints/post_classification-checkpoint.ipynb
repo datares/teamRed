{
 "cells": [
  {
   "cell_type": "code",
   "execution_count": 1,
   "metadata": {},
   "outputs": [
    {
     "data": {
      "text/plain": [
       "'/Users/apoorvgupta'"
      ]
     },
     "execution_count": 1,
     "metadata": {},
     "output_type": "execute_result"
    }
   ],
   "source": [
    "%pwd"
   ]
  },
  {
   "cell_type": "code",
   "execution_count": 2,
   "metadata": {},
   "outputs": [
    {
     "name": "stdout",
     "output_type": "stream",
     "text": [
      "/Users/apoorvgupta/Downloads\n"
     ]
    }
   ],
   "source": [
    "%cd Downloads"
   ]
  },
  {
   "cell_type": "code",
   "execution_count": 4,
   "metadata": {},
   "outputs": [],
   "source": [
    "import pandas as pd\n",
    "stack_posts = pd.read_csv(\"stack_posts.csv\")"
   ]
  },
  {
   "cell_type": "code",
   "execution_count": 5,
   "metadata": {},
   "outputs": [
    {
     "data": {
      "text/html": [
       "<div>\n",
       "<style scoped>\n",
       "    .dataframe tbody tr th:only-of-type {\n",
       "        vertical-align: middle;\n",
       "    }\n",
       "\n",
       "    .dataframe tbody tr th {\n",
       "        vertical-align: top;\n",
       "    }\n",
       "\n",
       "    .dataframe thead th {\n",
       "        text-align: right;\n",
       "    }\n",
       "</style>\n",
       "<table border=\"1\" class=\"dataframe\">\n",
       "  <thead>\n",
       "    <tr style=\"text-align: right;\">\n",
       "      <th></th>\n",
       "      <th>id</th>\n",
       "      <th>title</th>\n",
       "      <th>body</th>\n",
       "      <th>tags</th>\n",
       "      <th>answer_count</th>\n",
       "    </tr>\n",
       "  </thead>\n",
       "  <tbody>\n",
       "    <tr>\n",
       "      <th>0</th>\n",
       "      <td>20758373</td>\n",
       "      <td>Inversion with ordinal scale</td>\n",
       "      <td>&lt;p&gt;Is there any way to find inversion of ordin...</td>\n",
       "      <td>d3.js</td>\n",
       "      <td>8</td>\n",
       "    </tr>\n",
       "    <tr>\n",
       "      <th>1</th>\n",
       "      <td>20517541</td>\n",
       "      <td>Root path in XAMPP</td>\n",
       "      <td>&lt;p&gt;I've had this problem for a while, and have...</td>\n",
       "      <td>php|html|apache|xampp</td>\n",
       "      <td>6</td>\n",
       "    </tr>\n",
       "    <tr>\n",
       "      <th>2</th>\n",
       "      <td>20669437</td>\n",
       "      <td>Adding multiple projects to solution</td>\n",
       "      <td>&lt;p&gt;This seems to be extremely annoying. I crea...</td>\n",
       "      <td>asp.net|visual-studio</td>\n",
       "      <td>6</td>\n",
       "    </tr>\n",
       "    <tr>\n",
       "      <th>3</th>\n",
       "      <td>20830353</td>\n",
       "      <td>How to make an element's content editable with...</td>\n",
       "      <td>&lt;p&gt;How would I make it so the content of an el...</td>\n",
       "      <td>javascript|jquery|html|contenteditable</td>\n",
       "      <td>6</td>\n",
       "    </tr>\n",
       "    <tr>\n",
       "      <th>4</th>\n",
       "      <td>20414027</td>\n",
       "      <td>Batch Script: Validate Date Input</td>\n",
       "      <td>&lt;p&gt;I have a batch file that I use to create ne...</td>\n",
       "      <td>windows|validation|date|batch-file</td>\n",
       "      <td>6</td>\n",
       "    </tr>\n",
       "  </tbody>\n",
       "</table>\n",
       "</div>"
      ],
      "text/plain": [
       "         id                                              title  \\\n",
       "0  20758373                       Inversion with ordinal scale   \n",
       "1  20517541                                 Root path in XAMPP   \n",
       "2  20669437               Adding multiple projects to solution   \n",
       "3  20830353  How to make an element's content editable with...   \n",
       "4  20414027                  Batch Script: Validate Date Input   \n",
       "\n",
       "                                                body  \\\n",
       "0  <p>Is there any way to find inversion of ordin...   \n",
       "1  <p>I've had this problem for a while, and have...   \n",
       "2  <p>This seems to be extremely annoying. I crea...   \n",
       "3  <p>How would I make it so the content of an el...   \n",
       "4  <p>I have a batch file that I use to create ne...   \n",
       "\n",
       "                                     tags  answer_count  \n",
       "0                                   d3.js             8  \n",
       "1                   php|html|apache|xampp             6  \n",
       "2                   asp.net|visual-studio             6  \n",
       "3  javascript|jquery|html|contenteditable             6  \n",
       "4      windows|validation|date|batch-file             6  "
      ]
     },
     "execution_count": 5,
     "metadata": {},
     "output_type": "execute_result"
    }
   ],
   "source": [
    "stack_posts.head(5)"
   ]
  },
  {
   "cell_type": "markdown",
   "metadata": {},
   "source": [
    "Creating a deepcopy of stack_posts :-"
   ]
  },
  {
   "cell_type": "code",
   "execution_count": 7,
   "metadata": {},
   "outputs": [],
   "source": [
    "import numpy as np \n",
    "import copy\n",
    "import os\n",
    "import re\n",
    "\n",
    "stack_posts2 = copy.deepcopy (stack_posts)\n",
    "stack_posts2 = stack_posts2.dropna(axis=0)"
   ]
  },
  {
   "cell_type": "code",
   "execution_count": 8,
   "metadata": {},
   "outputs": [
    {
     "data": {
      "text/html": [
       "<div>\n",
       "<style scoped>\n",
       "    .dataframe tbody tr th:only-of-type {\n",
       "        vertical-align: middle;\n",
       "    }\n",
       "\n",
       "    .dataframe tbody tr th {\n",
       "        vertical-align: top;\n",
       "    }\n",
       "\n",
       "    .dataframe thead th {\n",
       "        text-align: right;\n",
       "    }\n",
       "</style>\n",
       "<table border=\"1\" class=\"dataframe\">\n",
       "  <thead>\n",
       "    <tr style=\"text-align: right;\">\n",
       "      <th></th>\n",
       "      <th>id</th>\n",
       "      <th>title</th>\n",
       "      <th>body</th>\n",
       "      <th>tags</th>\n",
       "      <th>answer_count</th>\n",
       "    </tr>\n",
       "  </thead>\n",
       "  <tbody>\n",
       "    <tr>\n",
       "      <th>0</th>\n",
       "      <td>20758373</td>\n",
       "      <td>Inversion with ordinal scale</td>\n",
       "      <td>&lt;p&gt;Is there any way to find inversion of ordin...</td>\n",
       "      <td>d3.js</td>\n",
       "      <td>8</td>\n",
       "    </tr>\n",
       "    <tr>\n",
       "      <th>1</th>\n",
       "      <td>20517541</td>\n",
       "      <td>Root path in XAMPP</td>\n",
       "      <td>&lt;p&gt;I've had this problem for a while, and have...</td>\n",
       "      <td>php|html|apache|xampp</td>\n",
       "      <td>6</td>\n",
       "    </tr>\n",
       "    <tr>\n",
       "      <th>2</th>\n",
       "      <td>20669437</td>\n",
       "      <td>Adding multiple projects to solution</td>\n",
       "      <td>&lt;p&gt;This seems to be extremely annoying. I crea...</td>\n",
       "      <td>asp.net|visual-studio</td>\n",
       "      <td>6</td>\n",
       "    </tr>\n",
       "    <tr>\n",
       "      <th>3</th>\n",
       "      <td>20830353</td>\n",
       "      <td>How to make an element's content editable with...</td>\n",
       "      <td>&lt;p&gt;How would I make it so the content of an el...</td>\n",
       "      <td>javascript|jquery|html|contenteditable</td>\n",
       "      <td>6</td>\n",
       "    </tr>\n",
       "  </tbody>\n",
       "</table>\n",
       "</div>"
      ],
      "text/plain": [
       "         id                                              title  \\\n",
       "0  20758373                       Inversion with ordinal scale   \n",
       "1  20517541                                 Root path in XAMPP   \n",
       "2  20669437               Adding multiple projects to solution   \n",
       "3  20830353  How to make an element's content editable with...   \n",
       "\n",
       "                                                body  \\\n",
       "0  <p>Is there any way to find inversion of ordin...   \n",
       "1  <p>I've had this problem for a while, and have...   \n",
       "2  <p>This seems to be extremely annoying. I crea...   \n",
       "3  <p>How would I make it so the content of an el...   \n",
       "\n",
       "                                     tags  answer_count  \n",
       "0                                   d3.js             8  \n",
       "1                   php|html|apache|xampp             6  \n",
       "2                   asp.net|visual-studio             6  \n",
       "3  javascript|jquery|html|contenteditable             6  "
      ]
     },
     "execution_count": 8,
     "metadata": {},
     "output_type": "execute_result"
    }
   ],
   "source": [
    "import collections\n",
    "\n",
    "stack_posts2.head(4)"
   ]
  },
  {
   "cell_type": "markdown",
   "metadata": {},
   "source": [
    "The folowing function deletes the html tags from the bodies and titles of the question posts. Applying that function to our body column."
   ]
  },
  {
   "cell_type": "code",
   "execution_count": 9,
   "metadata": {},
   "outputs": [
    {
     "data": {
      "text/html": [
       "<div>\n",
       "<style scoped>\n",
       "    .dataframe tbody tr th:only-of-type {\n",
       "        vertical-align: middle;\n",
       "    }\n",
       "\n",
       "    .dataframe tbody tr th {\n",
       "        vertical-align: top;\n",
       "    }\n",
       "\n",
       "    .dataframe thead th {\n",
       "        text-align: right;\n",
       "    }\n",
       "</style>\n",
       "<table border=\"1\" class=\"dataframe\">\n",
       "  <thead>\n",
       "    <tr style=\"text-align: right;\">\n",
       "      <th></th>\n",
       "      <th>id</th>\n",
       "      <th>title</th>\n",
       "      <th>body</th>\n",
       "      <th>tags</th>\n",
       "      <th>answer_count</th>\n",
       "    </tr>\n",
       "  </thead>\n",
       "  <tbody>\n",
       "    <tr>\n",
       "      <th>0</th>\n",
       "      <td>20758373</td>\n",
       "      <td>Inversion with ordinal scale</td>\n",
       "      <td>Is there any way to find inversion of ordinal ...</td>\n",
       "      <td>d3.js</td>\n",
       "      <td>8</td>\n",
       "    </tr>\n",
       "    <tr>\n",
       "      <th>1</th>\n",
       "      <td>20517541</td>\n",
       "      <td>Root path in XAMPP</td>\n",
       "      <td>I've had this problem for a while, and have un...</td>\n",
       "      <td>php|html|apache|xampp</td>\n",
       "      <td>6</td>\n",
       "    </tr>\n",
       "    <tr>\n",
       "      <th>2</th>\n",
       "      <td>20669437</td>\n",
       "      <td>Adding multiple projects to solution</td>\n",
       "      <td>This seems to be extremely annoying. I create ...</td>\n",
       "      <td>asp.net|visual-studio</td>\n",
       "      <td>6</td>\n",
       "    </tr>\n",
       "    <tr>\n",
       "      <th>3</th>\n",
       "      <td>20830353</td>\n",
       "      <td>How to make an element's content editable with...</td>\n",
       "      <td>How would I make it so the content of an eleme...</td>\n",
       "      <td>javascript|jquery|html|contenteditable</td>\n",
       "      <td>6</td>\n",
       "    </tr>\n",
       "    <tr>\n",
       "      <th>4</th>\n",
       "      <td>20414027</td>\n",
       "      <td>Batch Script: Validate Date Input</td>\n",
       "      <td>I have a batch file that I use to create new p...</td>\n",
       "      <td>windows|validation|date|batch-file</td>\n",
       "      <td>6</td>\n",
       "    </tr>\n",
       "  </tbody>\n",
       "</table>\n",
       "</div>"
      ],
      "text/plain": [
       "         id                                              title  \\\n",
       "0  20758373                       Inversion with ordinal scale   \n",
       "1  20517541                                 Root path in XAMPP   \n",
       "2  20669437               Adding multiple projects to solution   \n",
       "3  20830353  How to make an element's content editable with...   \n",
       "4  20414027                  Batch Script: Validate Date Input   \n",
       "\n",
       "                                                body  \\\n",
       "0  Is there any way to find inversion of ordinal ...   \n",
       "1  I've had this problem for a while, and have un...   \n",
       "2  This seems to be extremely annoying. I create ...   \n",
       "3  How would I make it so the content of an eleme...   \n",
       "4  I have a batch file that I use to create new p...   \n",
       "\n",
       "                                     tags  answer_count  \n",
       "0                                   d3.js             8  \n",
       "1                   php|html|apache|xampp             6  \n",
       "2                   asp.net|visual-studio             6  \n",
       "3  javascript|jquery|html|contenteditable             6  \n",
       "4      windows|validation|date|batch-file             6  "
      ]
     },
     "execution_count": 9,
     "metadata": {},
     "output_type": "execute_result"
    }
   ],
   "source": [
    "\n",
    "def deleteHtml(body):\n",
    "    regex = re.compile('<.*?>')\n",
    "    return re.sub(regex, '', body)\n",
    "\n",
    "stack_posts2['body'] = stack_posts2['body'].apply(deleteHtml)\n",
    "stack_posts2.head(5)"
   ]
  },
  {
   "cell_type": "markdown",
   "metadata": {},
   "source": [
    "The type of the 'tags' column is string. The vertical line symbol in these strings acts as a delimiter to separate tags from one another. The following lines of code read those individual tags and add them to a list in a seperate column called 'tagArr'."
   ]
  },
  {
   "cell_type": "code",
   "execution_count": 15,
   "metadata": {},
   "outputs": [],
   "source": [
    "numRows = stack_posts2.shape[0]\n",
    "\n",
    "newCol = []\n",
    "for j in range (numRows):\n",
    "    tagsArr = []\n",
    "    iniStr = ''\n",
    "    for i in stack_posts['tags'][j]:\n",
    "        if (i == '|'):\n",
    "            tagsArr.append(iniStr)\n",
    "            iniStr = ''\n",
    "        else:\n",
    "            iniStr = iniStr + i\n",
    "\n",
    "    tagsArr.append(iniStr)\n",
    "    newCol.append(tagsArr)\n",
    "\n",
    "stack_posts2['tagsArr'] = newCol"
   ]
  },
  {
   "cell_type": "markdown",
   "metadata": {},
   "source": [
    "The following explodes rows of the dataframe based on the concatenated tags column 'tags'."
   ]
  },
  {
   "cell_type": "code",
   "execution_count": 56,
   "metadata": {},
   "outputs": [
    {
     "name": "stdout",
     "output_type": "stream",
     "text": [
      "(43636, 6)\n"
     ]
    },
    {
     "data": {
      "text/html": [
       "<div>\n",
       "<style scoped>\n",
       "    .dataframe tbody tr th:only-of-type {\n",
       "        vertical-align: middle;\n",
       "    }\n",
       "\n",
       "    .dataframe tbody tr th {\n",
       "        vertical-align: top;\n",
       "    }\n",
       "\n",
       "    .dataframe thead th {\n",
       "        text-align: right;\n",
       "    }\n",
       "</style>\n",
       "<table border=\"1\" class=\"dataframe\">\n",
       "  <thead>\n",
       "    <tr style=\"text-align: right;\">\n",
       "      <th></th>\n",
       "      <th>id</th>\n",
       "      <th>title</th>\n",
       "      <th>body</th>\n",
       "      <th>tags</th>\n",
       "      <th>answer_count</th>\n",
       "      <th>tagsArr</th>\n",
       "    </tr>\n",
       "  </thead>\n",
       "  <tbody>\n",
       "    <tr>\n",
       "      <th>0</th>\n",
       "      <td>20758373</td>\n",
       "      <td>Inversion with ordinal scale</td>\n",
       "      <td>Is there any way to find inversion of ordinal ...</td>\n",
       "      <td>d3.js</td>\n",
       "      <td>8</td>\n",
       "      <td>[d3.js]</td>\n",
       "    </tr>\n",
       "    <tr>\n",
       "      <th>1</th>\n",
       "      <td>20517541</td>\n",
       "      <td>Root path in XAMPP</td>\n",
       "      <td>I've had this problem for a while, and have un...</td>\n",
       "      <td>php</td>\n",
       "      <td>6</td>\n",
       "      <td>[php, html, apache, xampp]</td>\n",
       "    </tr>\n",
       "    <tr>\n",
       "      <th>1</th>\n",
       "      <td>20517541</td>\n",
       "      <td>Root path in XAMPP</td>\n",
       "      <td>I've had this problem for a while, and have un...</td>\n",
       "      <td>html</td>\n",
       "      <td>6</td>\n",
       "      <td>[php, html, apache, xampp]</td>\n",
       "    </tr>\n",
       "    <tr>\n",
       "      <th>1</th>\n",
       "      <td>20517541</td>\n",
       "      <td>Root path in XAMPP</td>\n",
       "      <td>I've had this problem for a while, and have un...</td>\n",
       "      <td>apache</td>\n",
       "      <td>6</td>\n",
       "      <td>[php, html, apache, xampp]</td>\n",
       "    </tr>\n",
       "  </tbody>\n",
       "</table>\n",
       "</div>"
      ],
      "text/plain": [
       "         id                         title  \\\n",
       "0  20758373  Inversion with ordinal scale   \n",
       "1  20517541            Root path in XAMPP   \n",
       "1  20517541            Root path in XAMPP   \n",
       "1  20517541            Root path in XAMPP   \n",
       "\n",
       "                                                body    tags  answer_count  \\\n",
       "0  Is there any way to find inversion of ordinal ...   d3.js             8   \n",
       "1  I've had this problem for a while, and have un...     php             6   \n",
       "1  I've had this problem for a while, and have un...    html             6   \n",
       "1  I've had this problem for a while, and have un...  apache             6   \n",
       "\n",
       "                      tagsArr  \n",
       "0                     [d3.js]  \n",
       "1  [php, html, apache, xampp]  \n",
       "1  [php, html, apache, xampp]  \n",
       "1  [php, html, apache, xampp]  "
      ]
     },
     "execution_count": 56,
     "metadata": {},
     "output_type": "execute_result"
    }
   ],
   "source": [
    "split_tags_df = stack_posts2.assign(tags=stack_posts2['tags'].str.split('|')).explode('tags')\n",
    "#\n",
    "print (split_tags_df.shape)\n",
    "\n",
    "split_tags_df.head(4)"
   ]
  },
  {
   "cell_type": "markdown",
   "metadata": {},
   "source": [
    "Converting the 'tags' column, which is currently of type string, to list of single string. We do this because the multiLabelBinarizer method needs a vector of labels (just some requisite data cleaning)."
   ]
  },
  {
   "cell_type": "code",
   "execution_count": 88,
   "metadata": {},
   "outputs": [
    {
     "name": "stdout",
     "output_type": "stream",
     "text": [
      "43636\n"
     ]
    },
    {
     "data": {
      "text/html": [
       "<div>\n",
       "<style scoped>\n",
       "    .dataframe tbody tr th:only-of-type {\n",
       "        vertical-align: middle;\n",
       "    }\n",
       "\n",
       "    .dataframe tbody tr th {\n",
       "        vertical-align: top;\n",
       "    }\n",
       "\n",
       "    .dataframe thead th {\n",
       "        text-align: right;\n",
       "    }\n",
       "</style>\n",
       "<table border=\"1\" class=\"dataframe\">\n",
       "  <thead>\n",
       "    <tr style=\"text-align: right;\">\n",
       "      <th></th>\n",
       "      <th>id</th>\n",
       "      <th>title</th>\n",
       "      <th>body</th>\n",
       "      <th>tags</th>\n",
       "      <th>answer_count</th>\n",
       "      <th>tagsArr</th>\n",
       "      <th>Tags</th>\n",
       "    </tr>\n",
       "  </thead>\n",
       "  <tbody>\n",
       "    <tr>\n",
       "      <th>0</th>\n",
       "      <td>20758373</td>\n",
       "      <td>Inversion with ordinal scale</td>\n",
       "      <td>Is there any way to find inversion of ordinal ...</td>\n",
       "      <td>d3.js</td>\n",
       "      <td>8</td>\n",
       "      <td>[d3.js]</td>\n",
       "      <td>[d3.js]</td>\n",
       "    </tr>\n",
       "    <tr>\n",
       "      <th>1</th>\n",
       "      <td>20517541</td>\n",
       "      <td>Root path in XAMPP</td>\n",
       "      <td>I've had this problem for a while, and have un...</td>\n",
       "      <td>php</td>\n",
       "      <td>6</td>\n",
       "      <td>[php, html, apache, xampp]</td>\n",
       "      <td>[php]</td>\n",
       "    </tr>\n",
       "    <tr>\n",
       "      <th>1</th>\n",
       "      <td>20517541</td>\n",
       "      <td>Root path in XAMPP</td>\n",
       "      <td>I've had this problem for a while, and have un...</td>\n",
       "      <td>html</td>\n",
       "      <td>6</td>\n",
       "      <td>[php, html, apache, xampp]</td>\n",
       "      <td>[html]</td>\n",
       "    </tr>\n",
       "    <tr>\n",
       "      <th>1</th>\n",
       "      <td>20517541</td>\n",
       "      <td>Root path in XAMPP</td>\n",
       "      <td>I've had this problem for a while, and have un...</td>\n",
       "      <td>apache</td>\n",
       "      <td>6</td>\n",
       "      <td>[php, html, apache, xampp]</td>\n",
       "      <td>[apache]</td>\n",
       "    </tr>\n",
       "    <tr>\n",
       "      <th>1</th>\n",
       "      <td>20517541</td>\n",
       "      <td>Root path in XAMPP</td>\n",
       "      <td>I've had this problem for a while, and have un...</td>\n",
       "      <td>xampp</td>\n",
       "      <td>6</td>\n",
       "      <td>[php, html, apache, xampp]</td>\n",
       "      <td>[xampp]</td>\n",
       "    </tr>\n",
       "    <tr>\n",
       "      <th>2</th>\n",
       "      <td>20669437</td>\n",
       "      <td>Adding multiple projects to solution</td>\n",
       "      <td>This seems to be extremely annoying. I create ...</td>\n",
       "      <td>asp.net</td>\n",
       "      <td>6</td>\n",
       "      <td>[asp.net, visual-studio]</td>\n",
       "      <td>[asp.net]</td>\n",
       "    </tr>\n",
       "    <tr>\n",
       "      <th>2</th>\n",
       "      <td>20669437</td>\n",
       "      <td>Adding multiple projects to solution</td>\n",
       "      <td>This seems to be extremely annoying. I create ...</td>\n",
       "      <td>visual-studio</td>\n",
       "      <td>6</td>\n",
       "      <td>[asp.net, visual-studio]</td>\n",
       "      <td>[visual, studio]</td>\n",
       "    </tr>\n",
       "    <tr>\n",
       "      <th>3</th>\n",
       "      <td>20830353</td>\n",
       "      <td>How to make an element's content editable with...</td>\n",
       "      <td>How would I make it so the content of an eleme...</td>\n",
       "      <td>javascript</td>\n",
       "      <td>6</td>\n",
       "      <td>[javascript, jquery, html, contenteditable]</td>\n",
       "      <td>[javascript]</td>\n",
       "    </tr>\n",
       "  </tbody>\n",
       "</table>\n",
       "</div>"
      ],
      "text/plain": [
       "         id                                              title  \\\n",
       "0  20758373                       Inversion with ordinal scale   \n",
       "1  20517541                                 Root path in XAMPP   \n",
       "1  20517541                                 Root path in XAMPP   \n",
       "1  20517541                                 Root path in XAMPP   \n",
       "1  20517541                                 Root path in XAMPP   \n",
       "2  20669437               Adding multiple projects to solution   \n",
       "2  20669437               Adding multiple projects to solution   \n",
       "3  20830353  How to make an element's content editable with...   \n",
       "\n",
       "                                                body           tags  \\\n",
       "0  Is there any way to find inversion of ordinal ...          d3.js   \n",
       "1  I've had this problem for a while, and have un...            php   \n",
       "1  I've had this problem for a while, and have un...           html   \n",
       "1  I've had this problem for a while, and have un...         apache   \n",
       "1  I've had this problem for a while, and have un...          xampp   \n",
       "2  This seems to be extremely annoying. I create ...        asp.net   \n",
       "2  This seems to be extremely annoying. I create ...  visual-studio   \n",
       "3  How would I make it so the content of an eleme...     javascript   \n",
       "\n",
       "   answer_count                                      tagsArr              Tags  \n",
       "0             8                                      [d3.js]           [d3.js]  \n",
       "1             6                   [php, html, apache, xampp]             [php]  \n",
       "1             6                   [php, html, apache, xampp]            [html]  \n",
       "1             6                   [php, html, apache, xampp]          [apache]  \n",
       "1             6                   [php, html, apache, xampp]           [xampp]  \n",
       "2             6                     [asp.net, visual-studio]         [asp.net]  \n",
       "2             6                     [asp.net, visual-studio]  [visual, studio]  \n",
       "3             6  [javascript, jquery, html, contenteditable]      [javascript]  "
      ]
     },
     "execution_count": 88,
     "metadata": {},
     "output_type": "execute_result"
    }
   ],
   "source": [
    "def Convert(string): \n",
    "    li = list(string.split(\"-\")) \n",
    "    return li \n",
    "\n",
    "\n",
    "database = []\n",
    "for i in split_tags_df.tags:\n",
    "    myList = Convert(i)\n",
    "    database.append(myList)\n",
    "    \n",
    "split_tags_df['Tags'] = database\n",
    "    \n",
    "split_tags_df.head(8)"
   ]
  },
  {
   "cell_type": "markdown",
   "metadata": {},
   "source": [
    "Resetting the index"
   ]
  },
  {
   "cell_type": "code",
   "execution_count": 104,
   "metadata": {},
   "outputs": [
    {
     "data": {
      "text/html": [
       "<div>\n",
       "<style scoped>\n",
       "    .dataframe tbody tr th:only-of-type {\n",
       "        vertical-align: middle;\n",
       "    }\n",
       "\n",
       "    .dataframe tbody tr th {\n",
       "        vertical-align: top;\n",
       "    }\n",
       "\n",
       "    .dataframe thead th {\n",
       "        text-align: right;\n",
       "    }\n",
       "</style>\n",
       "<table border=\"1\" class=\"dataframe\">\n",
       "  <thead>\n",
       "    <tr style=\"text-align: right;\">\n",
       "      <th></th>\n",
       "      <th>id</th>\n",
       "      <th>title</th>\n",
       "      <th>body</th>\n",
       "      <th>tags</th>\n",
       "      <th>answer_count</th>\n",
       "      <th>tagsArr</th>\n",
       "      <th>Tags</th>\n",
       "    </tr>\n",
       "  </thead>\n",
       "  <tbody>\n",
       "    <tr>\n",
       "      <th>0</th>\n",
       "      <td>20758373</td>\n",
       "      <td>Inversion with ordinal scale</td>\n",
       "      <td>Is there any way to find inversion of ordinal ...</td>\n",
       "      <td>d3.js</td>\n",
       "      <td>8</td>\n",
       "      <td>[d3.js]</td>\n",
       "      <td>[d3.js]</td>\n",
       "    </tr>\n",
       "    <tr>\n",
       "      <th>1</th>\n",
       "      <td>20517541</td>\n",
       "      <td>Root path in XAMPP</td>\n",
       "      <td>I've had this problem for a while, and have un...</td>\n",
       "      <td>php</td>\n",
       "      <td>6</td>\n",
       "      <td>[php, html, apache, xampp]</td>\n",
       "      <td>[php]</td>\n",
       "    </tr>\n",
       "    <tr>\n",
       "      <th>2</th>\n",
       "      <td>20517541</td>\n",
       "      <td>Root path in XAMPP</td>\n",
       "      <td>I've had this problem for a while, and have un...</td>\n",
       "      <td>html</td>\n",
       "      <td>6</td>\n",
       "      <td>[php, html, apache, xampp]</td>\n",
       "      <td>[html]</td>\n",
       "    </tr>\n",
       "    <tr>\n",
       "      <th>3</th>\n",
       "      <td>20517541</td>\n",
       "      <td>Root path in XAMPP</td>\n",
       "      <td>I've had this problem for a while, and have un...</td>\n",
       "      <td>apache</td>\n",
       "      <td>6</td>\n",
       "      <td>[php, html, apache, xampp]</td>\n",
       "      <td>[apache]</td>\n",
       "    </tr>\n",
       "    <tr>\n",
       "      <th>4</th>\n",
       "      <td>20517541</td>\n",
       "      <td>Root path in XAMPP</td>\n",
       "      <td>I've had this problem for a while, and have un...</td>\n",
       "      <td>xampp</td>\n",
       "      <td>6</td>\n",
       "      <td>[php, html, apache, xampp]</td>\n",
       "      <td>[xampp]</td>\n",
       "    </tr>\n",
       "    <tr>\n",
       "      <th>5</th>\n",
       "      <td>20669437</td>\n",
       "      <td>Adding multiple projects to solution</td>\n",
       "      <td>This seems to be extremely annoying. I create ...</td>\n",
       "      <td>asp.net</td>\n",
       "      <td>6</td>\n",
       "      <td>[asp.net, visual-studio]</td>\n",
       "      <td>[asp.net]</td>\n",
       "    </tr>\n",
       "    <tr>\n",
       "      <th>6</th>\n",
       "      <td>20669437</td>\n",
       "      <td>Adding multiple projects to solution</td>\n",
       "      <td>This seems to be extremely annoying. I create ...</td>\n",
       "      <td>visual-studio</td>\n",
       "      <td>6</td>\n",
       "      <td>[asp.net, visual-studio]</td>\n",
       "      <td>[visual, studio]</td>\n",
       "    </tr>\n",
       "    <tr>\n",
       "      <th>7</th>\n",
       "      <td>20830353</td>\n",
       "      <td>How to make an element's content editable with...</td>\n",
       "      <td>How would I make it so the content of an eleme...</td>\n",
       "      <td>javascript</td>\n",
       "      <td>6</td>\n",
       "      <td>[javascript, jquery, html, contenteditable]</td>\n",
       "      <td>[javascript]</td>\n",
       "    </tr>\n",
       "  </tbody>\n",
       "</table>\n",
       "</div>"
      ],
      "text/plain": [
       "         id                                              title  \\\n",
       "0  20758373                       Inversion with ordinal scale   \n",
       "1  20517541                                 Root path in XAMPP   \n",
       "2  20517541                                 Root path in XAMPP   \n",
       "3  20517541                                 Root path in XAMPP   \n",
       "4  20517541                                 Root path in XAMPP   \n",
       "5  20669437               Adding multiple projects to solution   \n",
       "6  20669437               Adding multiple projects to solution   \n",
       "7  20830353  How to make an element's content editable with...   \n",
       "\n",
       "                                                body           tags  \\\n",
       "0  Is there any way to find inversion of ordinal ...          d3.js   \n",
       "1  I've had this problem for a while, and have un...            php   \n",
       "2  I've had this problem for a while, and have un...           html   \n",
       "3  I've had this problem for a while, and have un...         apache   \n",
       "4  I've had this problem for a while, and have un...          xampp   \n",
       "5  This seems to be extremely annoying. I create ...        asp.net   \n",
       "6  This seems to be extremely annoying. I create ...  visual-studio   \n",
       "7  How would I make it so the content of an eleme...     javascript   \n",
       "\n",
       "   answer_count                                      tagsArr              Tags  \n",
       "0             8                                      [d3.js]           [d3.js]  \n",
       "1             6                   [php, html, apache, xampp]             [php]  \n",
       "2             6                   [php, html, apache, xampp]            [html]  \n",
       "3             6                   [php, html, apache, xampp]          [apache]  \n",
       "4             6                   [php, html, apache, xampp]           [xampp]  \n",
       "5             6                     [asp.net, visual-studio]         [asp.net]  \n",
       "6             6                     [asp.net, visual-studio]  [visual, studio]  \n",
       "7             6  [javascript, jquery, html, contenteditable]      [javascript]  "
      ]
     },
     "execution_count": 104,
     "metadata": {},
     "output_type": "execute_result"
    }
   ],
   "source": [
    "split_tags_df = split_tags_df.reset_index(drop=True)\n",
    "split_tags_df.head(8)"
   ]
  },
  {
   "cell_type": "markdown",
   "metadata": {},
   "source": [
    "Importing some libraries beforehand."
   ]
  },
  {
   "cell_type": "code",
   "execution_count": 24,
   "metadata": {},
   "outputs": [],
   "source": [
    "from nltk import word_tokenize\n",
    "from keras.preprocessing.text import Tokenizer\n",
    "from keras.preprocessing import sequence\n",
    "from keras.layers import LSTM, Activation, Dense, Dropout, Input, Embedding, BatchNormalization, GRU ,concatenate\n",
    "from keras.models import Model\n",
    "from sklearn.model_selection import train_test_split\n",
    "from sklearn.preprocessing import MultiLabelBinarizer"
   ]
  },
  {
   "cell_type": "markdown",
   "metadata": {},
   "source": [
    "Creating a multi-label binarizer instance. Using that instance to create a binary matrix through the transform method. I am using a binary matrix because it is simplest to implement understand for a beginner like me, but using an adapted algorithm like MLkNN would probably have been better for this problem."
   ]
  },
  {
   "cell_type": "code",
   "execution_count": 110,
   "metadata": {},
   "outputs": [
    {
     "data": {
      "text/plain": [
       "array(['.doc', '.htaccess', '.net', ..., 'ztree', 'zurb', 'zxing'],\n",
       "      dtype=object)"
      ]
     },
     "execution_count": 110,
     "metadata": {},
     "output_type": "execute_result"
    }
   ],
   "source": [
    "splitTags2 = split_tags_df.drop(columns = ['tags', 'answer_count', 'tagsArr'])\n",
    "\n",
    "multilabel_binarizer = MultiLabelBinarizer()\n",
    "multilabel_binarizer.fit(splitTags2.Tags)\n",
    "labels = multilabel_binarizer.classes_\n",
    "\n",
    "labels"
   ]
  },
  {
   "cell_type": "markdown",
   "metadata": {},
   "source": [
    "Splitting my df into test and train dataframes."
   ]
  },
  {
   "cell_type": "code",
   "execution_count": 111,
   "metadata": {},
   "outputs": [],
   "source": [
    "numRowsUsed = int (splitTags2.shape[0] * 0.75) # not using all data (only using 75%), just in case more unseen data is required in the future.\n",
    "train,test=train_test_split(splitTags2[:numRowsUsed],test_size=0.25,random_state=16)"
   ]
  },
  {
   "cell_type": "markdown",
   "metadata": {},
   "source": [
    "Checking the shape to make sure the split happened correctly."
   ]
  },
  {
   "cell_type": "code",
   "execution_count": 112,
   "metadata": {},
   "outputs": [
    {
     "data": {
      "text/plain": [
       "((24545, 4), (8182, 4))"
      ]
     },
     "execution_count": 112,
     "metadata": {},
     "output_type": "execute_result"
    }
   ],
   "source": [
    "train.shape,test.shape"
   ]
  },
  {
   "cell_type": "markdown",
   "metadata": {},
   "source": [
    "Parsing columns."
   ]
  },
  {
   "cell_type": "code",
   "execution_count": 113,
   "metadata": {},
   "outputs": [],
   "source": [
    "X_train_t=train['title']\n",
    "X_train_b=train['body']\n",
    "X_test_t=test['title']\n",
    "X_test_b=test['body']"
   ]
  },
  {
   "cell_type": "markdown",
   "metadata": {},
   "source": [
    "Finally transforming our tags column using the transform method from our multi-lable binarizer instance."
   ]
  },
  {
   "cell_type": "code",
   "execution_count": 128,
   "metadata": {},
   "outputs": [],
   "source": [
    "from IPython.utils import io\n",
    "\n",
    "# using io to suppress output\n",
    "with io.capture_output() as captured:\n",
    "    y_test=multilabel_binarizer.transform(test['Tags'])\n",
    "    y_train=multilabel_binarizer.transform(train['Tags'])"
   ]
  },
  {
   "cell_type": "code",
   "execution_count": 125,
   "metadata": {},
   "outputs": [
    {
     "name": "stderr",
     "output_type": "stream",
     "text": [
      "[nltk_data] Downloading package punkt to\n",
      "[nltk_data]     /Users/apoorvgupta/nltk_data...\n",
      "[nltk_data]   Package punkt is already up-to-date!\n"
     ]
    },
    {
     "data": {
      "text/plain": [
       "True"
      ]
     },
     "execution_count": 125,
     "metadata": {},
     "output_type": "execute_result"
    }
   ],
   "source": [
    "import nltk\n",
    "nltk.download('punkt') # required for tokenization"
   ]
  },
  {
   "cell_type": "markdown",
   "metadata": {},
   "source": [
    "# Operating on title testing and training dataframes.\n",
    "Note: Later, we'll repeat the same for 'body' dataframes."
   ]
  },
  {
   "cell_type": "markdown",
   "metadata": {},
   "source": [
    "Tokenizing the titles and finding the greatest length of token array in the training dataframe's title column."
   ]
  },
  {
   "cell_type": "code",
   "execution_count": 142,
   "metadata": {},
   "outputs": [
    {
     "data": {
      "text/plain": [
       "(24545, 4)"
      ]
     },
     "execution_count": 142,
     "metadata": {},
     "output_type": "execute_result"
    }
   ],
   "source": [
    "len_of_title_tokens = []\n",
    "for x in train['title']:\n",
    "    len_of_title_tokens.append(len(word_tokenize(x)))\n",
    "\n",
    "    \n",
    "print (max(len_of_title_tokens))"
   ]
  },
  {
   "cell_type": "markdown",
   "metadata": {},
   "source": [
    "Find the 97th quartile length"
   ]
  },
  {
   "cell_type": "code",
   "execution_count": 143,
   "metadata": {},
   "outputs": [
    {
     "data": {
      "text/plain": [
       "19.0"
      ]
     },
     "execution_count": 143,
     "metadata": {},
     "output_type": "execute_result"
    }
   ],
   "source": [
    "np.quantile(len_of_title_tokens,0.97)"
   ]
  },
  {
   "cell_type": "markdown",
   "metadata": {},
   "source": [
    "Disregarding the absurdly long titles and transforming each token text value to sequence of integeres using the texts_to_sequences method. "
   ]
  },
  {
   "cell_type": "code",
   "execution_count": 183,
   "metadata": {},
   "outputs": [],
   "source": [
    "max_len_of_title_tokens = 19\n",
    "tok = Tokenizer(char_level=False,split=' ')\n",
    "tok.fit_on_texts(X_train_t)\n",
    "sequences_train_t = tok.texts_to_sequences(X_train_t)"
   ]
  },
  {
   "cell_type": "markdown",
   "metadata": {},
   "source": [
    "Finding number of unique tokens."
   ]
  },
  {
   "cell_type": "code",
   "execution_count": 184,
   "metadata": {},
   "outputs": [
    {
     "name": "stdout",
     "output_type": "stream",
     "text": [
      "10288\n"
     ]
    }
   ],
   "source": [
    "vocab_len_t=len(tok.index_word.keys())\n",
    "print(vocab_len_t)"
   ]
  },
  {
   "cell_type": "markdown",
   "metadata": {},
   "source": [
    "Padding the sequences with 0 until all the sequences have the same length using Keras' pad_sequences method."
   ]
  },
  {
   "cell_type": "code",
   "execution_count": 185,
   "metadata": {},
   "outputs": [
    {
     "name": "stdout",
     "output_type": "stream",
     "text": [
      "(24545, 19)\n"
     ]
    }
   ],
   "source": [
    "sequences_matrix_train_t = sequence.pad_sequences(\n",
    "    sequences_train_t,maxlen = max_len_of_title_tokens)\n",
    "\n",
    "print (sequences_matrix_train_t.shape)"
   ]
  },
  {
   "cell_type": "markdown",
   "metadata": {},
   "source": [
    "Repeating the last two steps for testing data (prev 2 were for training data)"
   ]
  },
  {
   "cell_type": "code",
   "execution_count": 186,
   "metadata": {},
   "outputs": [],
   "source": [
    "sequences_test_t = tok.texts_to_sequences(X_test_t)\n",
    "sequences_matrix_test_t = sequence.pad_sequences(\n",
    "    sequences_test_t,maxlen = max_len_of_title_tokens)"
   ]
  },
  {
   "cell_type": "code",
   "execution_count": 187,
   "metadata": {},
   "outputs": [
    {
     "name": "stdout",
     "output_type": "stream",
     "text": [
      "(24545, 19)\n",
      "(8182, 19)\n",
      "(24545, 4289)\n",
      "(8182, 4289)\n"
     ]
    }
   ],
   "source": [
    "print (sequences_matrix_train_t.shape)\n",
    "print (sequences_matrix_test_t.shape)\n",
    "print (y_train.shape)\n",
    "print (y_test.shape)"
   ]
  },
  {
   "cell_type": "markdown",
   "metadata": {},
   "source": [
    "# Operating on 'body' testing and training dataframes.\n",
    "Excluding markdown description cells since these operations are the same."
   ]
  },
  {
   "cell_type": "code",
   "execution_count": 188,
   "metadata": {},
   "outputs": [
    {
     "name": "stdout",
     "output_type": "stream",
     "text": [
      "6800\n"
     ]
    }
   ],
   "source": [
    "len_of_body_tokens=[]\n",
    "for sent in train['body']:\n",
    "    len_of_body_tokens.append(len(word_tokenize(sent)))\n",
    "    \n",
    "print (max(len_of_body_tokens))"
   ]
  },
  {
   "cell_type": "code",
   "execution_count": 189,
   "metadata": {},
   "outputs": [
    {
     "name": "stdout",
     "output_type": "stream",
     "text": [
      "676.0\n"
     ]
    }
   ],
   "source": [
    "print (np.quantile(len_of_body_tokens,0.931))"
   ]
  },
  {
   "cell_type": "code",
   "execution_count": 190,
   "metadata": {},
   "outputs": [],
   "source": [
    "max_len_of_body_tokens = 676\n",
    "tok = Tokenizer(char_level = False, split = ' ')\n",
    "tok.fit_on_texts(X_train_b)\n",
    "sequences_train_b = tok.texts_to_sequences(X_train_b)"
   ]
  },
  {
   "cell_type": "code",
   "execution_count": 191,
   "metadata": {},
   "outputs": [
    {
     "name": "stdout",
     "output_type": "stream",
     "text": [
      "82808\n"
     ]
    }
   ],
   "source": [
    "vocab_len_b = len(tok.index_word.keys())\n",
    "print (vocab_len_b)"
   ]
  },
  {
   "cell_type": "code",
   "execution_count": 192,
   "metadata": {},
   "outputs": [
    {
     "name": "stdout",
     "output_type": "stream",
     "text": [
      "(24545, 676)\n"
     ]
    }
   ],
   "source": [
    "sequences_matrix_train_b = sequence.pad_sequences(\n",
    "    sequences_train_b, maxlen = max_len_of_body_tokens)\n",
    "\n",
    "print (sequences_matrix_train_b.shape)"
   ]
  },
  {
   "cell_type": "code",
   "execution_count": 193,
   "metadata": {},
   "outputs": [],
   "source": [
    "sequences_test_b = tok.texts_to_sequences(X_test_b)\n",
    "sequences_matrix_test_b = sequence.pad_sequences(\n",
    "    sequences_test_b, maxlen = max_len_of_body_tokens)"
   ]
  },
  {
   "cell_type": "code",
   "execution_count": 194,
   "metadata": {},
   "outputs": [
    {
     "name": "stdout",
     "output_type": "stream",
     "text": [
      "(24545, 19) (24545, 676) (24545, 4289)\n"
     ]
    }
   ],
   "source": [
    "print (\n",
    "    sequences_matrix_train_t.shape,\n",
    "    sequences_matrix_train_b.shape,\n",
    "    y_train.shape)"
   ]
  },
  {
   "cell_type": "code",
   "execution_count": 195,
   "metadata": {},
   "outputs": [
    {
     "name": "stdout",
     "output_type": "stream",
     "text": [
      "(8182, 19) (8182, 676) (8182, 4289)\n"
     ]
    }
   ],
   "source": [
    "print (\n",
    "    sequences_matrix_test_t.shape,\n",
    "    sequences_matrix_test_b.shape,\n",
    "    y_test.shape)"
   ]
  },
  {
   "cell_type": "markdown",
   "metadata": {},
   "source": [
    "Next, I built a recurrent neural network.\n",
    "1. For title column, I used an embedding layer with input output as vocab length + 1, 2000 respectively. I also used a GRU layer and 1 densed output layer with shape 10.\n",
    "2. For body column, I used a similar embedding layer except with output 170 and a GRU layer.\n",
    "3. Next, I combined these two.\n",
    "4. Lastly, I added the following in order - a dense layer, dropout layer, batchNormalization layer, dense output layer"
   ]
  },
  {
   "cell_type": "code",
   "execution_count": 222,
   "metadata": {},
   "outputs": [],
   "source": [
    "def RNN():\n",
    "    \n",
    "    # RNN part for the title column\n",
    "    title_input = Input(name='title_input',shape=[max_len_of_title_tokens])\n",
    "    title_Embed = Embedding(vocab_len_t+1,2000,input_length=max_len_of_title_tokens,mask_zero=True,name='title_Embed')(title_input)\n",
    "    gru_out_t = GRU(300)(title_Embed)\n",
    "    \n",
    "    # Using dense method for auxillary output to smoothen the effects of the GRU\n",
    "    auxiliary_output = Dense(10, activation='sigmoid', name='aux_output')(gru_out_t)   \n",
    "    \n",
    "    # RNN part for the body column\n",
    "    body_input = Input(name='body_input',shape=[max_len_of_body_tokens]) \n",
    "    body_Embed = Embedding(vocab_len_b+1,170,input_length=max_len_of_body_tokens,mask_zero=True,name='body_Embed')(body_input)\n",
    "    gru_out_b = GRU(200)(body_Embed)\n",
    "    \n",
    "    # combining these two\n",
    "    combined = concatenate([gru_out_t, gru_out_b])\n",
    "    \n",
    "    # Feeding combined to our remaining two dense layers\n",
    "    dense1 = Dense(400,activation='relu')(combined)\n",
    "    dropout = Dropout(0.5)(dense1)\n",
    "    batchNormalizer = BatchNormalization()(dropout) \n",
    "    dense2 = Dense(150,activation='relu')(batchNormalizer)\n",
    "    \n",
    "    main_output = Dense(10, activation='sigmoid', name='main_output')(dense2)\n",
    "    \n",
    "    model = Model(inputs=[title_input, body_input],outputs=[main_output, auxiliary_output])\n",
    "    \n",
    "    return model"
   ]
  },
  {
   "cell_type": "code",
   "execution_count": 223,
   "metadata": {},
   "outputs": [
    {
     "name": "stdout",
     "output_type": "stream",
     "text": [
      "Model: \"functional_7\"\n",
      "__________________________________________________________________________________________________\n",
      "Layer (type)                    Output Shape         Param #     Connected to                     \n",
      "==================================================================================================\n",
      "title_input (InputLayer)        [(None, 19)]         0                                            \n",
      "__________________________________________________________________________________________________\n",
      "body_input (InputLayer)         [(None, 676)]        0                                            \n",
      "__________________________________________________________________________________________________\n",
      "title_Embed (Embedding)         (None, 19, 2000)     20578000    title_input[0][0]                \n",
      "__________________________________________________________________________________________________\n",
      "body_Embed (Embedding)          (None, 676, 170)     14077530    body_input[0][0]                 \n",
      "__________________________________________________________________________________________________\n",
      "gru_19 (GRU)                    (None, 300)          2071800     title_Embed[0][0]                \n",
      "__________________________________________________________________________________________________\n",
      "gru_20 (GRU)                    (None, 200)          223200      body_Embed[0][0]                 \n",
      "__________________________________________________________________________________________________\n",
      "concatenate_8 (Concatenate)     (None, 500)          0           gru_19[0][0]                     \n",
      "                                                                 gru_20[0][0]                     \n",
      "__________________________________________________________________________________________________\n",
      "dense_9 (Dense)                 (None, 400)          200400      concatenate_8[0][0]              \n",
      "__________________________________________________________________________________________________\n",
      "dropout_4 (Dropout)             (None, 400)          0           dense_9[0][0]                    \n",
      "__________________________________________________________________________________________________\n",
      "batch_normalization_4 (BatchNor (None, 400)          1600        dropout_4[0][0]                  \n",
      "__________________________________________________________________________________________________\n",
      "dense_10 (Dense)                (None, 150)          60150       batch_normalization_4[0][0]      \n",
      "__________________________________________________________________________________________________\n",
      "main_output (Dense)             (None, 10)           1510        dense_10[0][0]                   \n",
      "__________________________________________________________________________________________________\n",
      "aux_output (Dense)              (None, 10)           3010        gru_19[0][0]                     \n",
      "==================================================================================================\n",
      "Total params: 37,217,200\n",
      "Trainable params: 37,216,400\n",
      "Non-trainable params: 800\n",
      "__________________________________________________________________________________________________\n"
     ]
    }
   ],
   "source": [
    "model = RNN()\n",
    "model.summary()"
   ]
  },
  {
   "cell_type": "markdown",
   "metadata": {},
   "source": [
    "We can see that the idea of cross-entropy may be useful for optimizing a classification model. Cross-entropy is widely used as a loss function when optimizing classification models. Using cross-entropy gives faster training and improved generalization over sum of squares error.\n",
    "\n",
    "Each example has a known class label with a probability of 1.0, and a probability of 0.0 for all other labels (my sequences matrices are one-hot). My model can estimate the probability of an example belonging to each class label. Cross-entropy can then be used to calculate the difference between the two probability distributions.\n",
    "\n",
    "My model seeks to approximate the target probability distribution, i.e. my prediction for the classification of the post. For this, I need to account for the loss; the following compilation does exactly that."
   ]
  },
  {
   "cell_type": "code",
   "execution_count": 224,
   "metadata": {},
   "outputs": [],
   "source": [
    "model.compile(optimizer='adam',loss={'main_output': 'categorical_crossentropy', 'aux_output': 'categorical_crossentropy'},\n",
    "              metrics=['accuracy'])"
   ]
  },
  {
   "cell_type": "markdown",
   "metadata": {},
   "source": [
    "Applying model over validation data."
   ]
  },
  {
   "cell_type": "code",
   "execution_count": 228,
   "metadata": {},
   "outputs": [
    {
     "name": "stdout",
     "output_type": "stream",
     "text": [
      "Epoch 1/5\n"
     ]
    },
    {
     "ename": "TypeError",
     "evalue": "'NoneType' object is not callable",
     "output_type": "error",
     "traceback": [
      "\u001b[0;31m---------------------------------------------------------------------------\u001b[0m",
      "\u001b[0;31mTypeError\u001b[0m                                 Traceback (most recent call last)",
      "\u001b[0;32m<ipython-input-228-cedd729d51c9>\u001b[0m in \u001b[0;36m<module>\u001b[0;34m\u001b[0m\n\u001b[0;32m----> 1\u001b[0;31m results = model.fit({'title_input': sequences_matrix_train_t, 'body_input': sequences_matrix_train_b},\n\u001b[0m\u001b[1;32m      2\u001b[0m           \u001b[0;34m{\u001b[0m\u001b[0;34m'main_output'\u001b[0m\u001b[0;34m:\u001b[0m \u001b[0my_train\u001b[0m\u001b[0;34m,\u001b[0m \u001b[0;34m'aux_output'\u001b[0m\u001b[0;34m:\u001b[0m \u001b[0my_train\u001b[0m\u001b[0;34m}\u001b[0m\u001b[0;34m,\u001b[0m\u001b[0;34m\u001b[0m\u001b[0;34m\u001b[0m\u001b[0m\n\u001b[1;32m      3\u001b[0m           validation_data=[{'title_input': sequences_matrix_test_t, 'body_input': sequences_matrix_test_b},\n\u001b[1;32m      4\u001b[0m           {'main_output': y_test, 'aux_output': y_test}],\n\u001b[1;32m      5\u001b[0m           epochs=5, batch_size=800)\n",
      "\u001b[0;32m~/Library/Python/3.8/lib/python/site-packages/tensorflow/python/keras/engine/training.py\u001b[0m in \u001b[0;36m_method_wrapper\u001b[0;34m(self, *args, **kwargs)\u001b[0m\n\u001b[1;32m    106\u001b[0m   \u001b[0;32mdef\u001b[0m \u001b[0m_method_wrapper\u001b[0m\u001b[0;34m(\u001b[0m\u001b[0mself\u001b[0m\u001b[0;34m,\u001b[0m \u001b[0;34m*\u001b[0m\u001b[0margs\u001b[0m\u001b[0;34m,\u001b[0m \u001b[0;34m**\u001b[0m\u001b[0mkwargs\u001b[0m\u001b[0;34m)\u001b[0m\u001b[0;34m:\u001b[0m\u001b[0;34m\u001b[0m\u001b[0;34m\u001b[0m\u001b[0m\n\u001b[1;32m    107\u001b[0m     \u001b[0;32mif\u001b[0m \u001b[0;32mnot\u001b[0m \u001b[0mself\u001b[0m\u001b[0;34m.\u001b[0m\u001b[0m_in_multi_worker_mode\u001b[0m\u001b[0;34m(\u001b[0m\u001b[0;34m)\u001b[0m\u001b[0;34m:\u001b[0m  \u001b[0;31m# pylint: disable=protected-access\u001b[0m\u001b[0;34m\u001b[0m\u001b[0;34m\u001b[0m\u001b[0m\n\u001b[0;32m--> 108\u001b[0;31m       \u001b[0;32mreturn\u001b[0m \u001b[0mmethod\u001b[0m\u001b[0;34m(\u001b[0m\u001b[0mself\u001b[0m\u001b[0;34m,\u001b[0m \u001b[0;34m*\u001b[0m\u001b[0margs\u001b[0m\u001b[0;34m,\u001b[0m \u001b[0;34m**\u001b[0m\u001b[0mkwargs\u001b[0m\u001b[0;34m)\u001b[0m\u001b[0;34m\u001b[0m\u001b[0;34m\u001b[0m\u001b[0m\n\u001b[0m\u001b[1;32m    109\u001b[0m \u001b[0;34m\u001b[0m\u001b[0m\n\u001b[1;32m    110\u001b[0m     \u001b[0;31m# Running inside `run_distribute_coordinator` already.\u001b[0m\u001b[0;34m\u001b[0m\u001b[0;34m\u001b[0m\u001b[0;34m\u001b[0m\u001b[0m\n",
      "\u001b[0;32m~/Library/Python/3.8/lib/python/site-packages/tensorflow/python/keras/engine/training.py\u001b[0m in \u001b[0;36mfit\u001b[0;34m(self, x, y, batch_size, epochs, verbose, callbacks, validation_split, validation_data, shuffle, class_weight, sample_weight, initial_epoch, steps_per_epoch, validation_steps, validation_batch_size, validation_freq, max_queue_size, workers, use_multiprocessing)\u001b[0m\n\u001b[1;32m   1096\u001b[0m                 batch_size=batch_size):\n\u001b[1;32m   1097\u001b[0m               \u001b[0mcallbacks\u001b[0m\u001b[0;34m.\u001b[0m\u001b[0mon_train_batch_begin\u001b[0m\u001b[0;34m(\u001b[0m\u001b[0mstep\u001b[0m\u001b[0;34m)\u001b[0m\u001b[0;34m\u001b[0m\u001b[0;34m\u001b[0m\u001b[0m\n\u001b[0;32m-> 1098\u001b[0;31m               \u001b[0mtmp_logs\u001b[0m \u001b[0;34m=\u001b[0m \u001b[0mtrain_function\u001b[0m\u001b[0;34m(\u001b[0m\u001b[0miterator\u001b[0m\u001b[0;34m)\u001b[0m\u001b[0;34m\u001b[0m\u001b[0;34m\u001b[0m\u001b[0m\n\u001b[0m\u001b[1;32m   1099\u001b[0m               \u001b[0;32mif\u001b[0m \u001b[0mdata_handler\u001b[0m\u001b[0;34m.\u001b[0m\u001b[0mshould_sync\u001b[0m\u001b[0;34m:\u001b[0m\u001b[0;34m\u001b[0m\u001b[0;34m\u001b[0m\u001b[0m\n\u001b[1;32m   1100\u001b[0m                 \u001b[0mcontext\u001b[0m\u001b[0;34m.\u001b[0m\u001b[0masync_wait\u001b[0m\u001b[0;34m(\u001b[0m\u001b[0;34m)\u001b[0m\u001b[0;34m\u001b[0m\u001b[0;34m\u001b[0m\u001b[0m\n",
      "\u001b[0;32m~/Library/Python/3.8/lib/python/site-packages/tensorflow/python/eager/def_function.py\u001b[0m in \u001b[0;36m__call__\u001b[0;34m(self, *args, **kwds)\u001b[0m\n\u001b[1;32m    778\u001b[0m       \u001b[0;32melse\u001b[0m\u001b[0;34m:\u001b[0m\u001b[0;34m\u001b[0m\u001b[0;34m\u001b[0m\u001b[0m\n\u001b[1;32m    779\u001b[0m         \u001b[0mcompiler\u001b[0m \u001b[0;34m=\u001b[0m \u001b[0;34m\"nonXla\"\u001b[0m\u001b[0;34m\u001b[0m\u001b[0;34m\u001b[0m\u001b[0m\n\u001b[0;32m--> 780\u001b[0;31m         \u001b[0mresult\u001b[0m \u001b[0;34m=\u001b[0m \u001b[0mself\u001b[0m\u001b[0;34m.\u001b[0m\u001b[0m_call\u001b[0m\u001b[0;34m(\u001b[0m\u001b[0;34m*\u001b[0m\u001b[0margs\u001b[0m\u001b[0;34m,\u001b[0m \u001b[0;34m**\u001b[0m\u001b[0mkwds\u001b[0m\u001b[0;34m)\u001b[0m\u001b[0;34m\u001b[0m\u001b[0;34m\u001b[0m\u001b[0m\n\u001b[0m\u001b[1;32m    781\u001b[0m \u001b[0;34m\u001b[0m\u001b[0m\n\u001b[1;32m    782\u001b[0m       \u001b[0mnew_tracing_count\u001b[0m \u001b[0;34m=\u001b[0m \u001b[0mself\u001b[0m\u001b[0;34m.\u001b[0m\u001b[0m_get_tracing_count\u001b[0m\u001b[0;34m(\u001b[0m\u001b[0;34m)\u001b[0m\u001b[0;34m\u001b[0m\u001b[0;34m\u001b[0m\u001b[0m\n",
      "\u001b[0;32m~/Library/Python/3.8/lib/python/site-packages/tensorflow/python/eager/def_function.py\u001b[0m in \u001b[0;36m_call\u001b[0;34m(self, *args, **kwds)\u001b[0m\n\u001b[1;32m    805\u001b[0m       \u001b[0;31m# In this case we have created variables on the first call, so we run the\u001b[0m\u001b[0;34m\u001b[0m\u001b[0;34m\u001b[0m\u001b[0;34m\u001b[0m\u001b[0m\n\u001b[1;32m    806\u001b[0m       \u001b[0;31m# defunned version which is guaranteed to never create variables.\u001b[0m\u001b[0;34m\u001b[0m\u001b[0;34m\u001b[0m\u001b[0;34m\u001b[0m\u001b[0m\n\u001b[0;32m--> 807\u001b[0;31m       \u001b[0;32mreturn\u001b[0m \u001b[0mself\u001b[0m\u001b[0;34m.\u001b[0m\u001b[0m_stateless_fn\u001b[0m\u001b[0;34m(\u001b[0m\u001b[0;34m*\u001b[0m\u001b[0margs\u001b[0m\u001b[0;34m,\u001b[0m \u001b[0;34m**\u001b[0m\u001b[0mkwds\u001b[0m\u001b[0;34m)\u001b[0m  \u001b[0;31m# pylint: disable=not-callable\u001b[0m\u001b[0;34m\u001b[0m\u001b[0;34m\u001b[0m\u001b[0m\n\u001b[0m\u001b[1;32m    808\u001b[0m     \u001b[0;32melif\u001b[0m \u001b[0mself\u001b[0m\u001b[0;34m.\u001b[0m\u001b[0m_stateful_fn\u001b[0m \u001b[0;32mis\u001b[0m \u001b[0;32mnot\u001b[0m \u001b[0;32mNone\u001b[0m\u001b[0;34m:\u001b[0m\u001b[0;34m\u001b[0m\u001b[0;34m\u001b[0m\u001b[0m\n\u001b[1;32m    809\u001b[0m       \u001b[0;31m# Release the lock early so that multiple threads can perform the call\u001b[0m\u001b[0;34m\u001b[0m\u001b[0;34m\u001b[0m\u001b[0;34m\u001b[0m\u001b[0m\n",
      "\u001b[0;31mTypeError\u001b[0m: 'NoneType' object is not callable"
     ]
    }
   ],
   "source": [
    "results = model.fit({'title_input': sequences_matrix_train_t, 'body_input': sequences_matrix_train_b},\n",
    "          {'main_output': y_train, 'aux_output': y_train},\n",
    "          validation_data=[{'title_input': sequences_matrix_test_t, 'body_input': sequences_matrix_test_b},\n",
    "          {'main_output': y_test, 'aux_output': y_test}],\n",
    "          epochs=5, batch_size=800)\n"
   ]
  },
  {
   "cell_type": "markdown",
   "metadata": {},
   "source": [
    "Predicting..."
   ]
  },
  {
   "cell_type": "code",
   "execution_count": null,
   "metadata": {},
   "outputs": [],
   "source": [
    "(predicted_main, predicted_aux)=model.predict({'title_input': sequences_matrix_test_t, 'body_input': sequences_matrix_test_b},verbose=1)"
   ]
  },
  {
   "cell_type": "markdown",
   "metadata": {},
   "source": [
    "Viewing F1 score"
   ]
  },
  {
   "cell_type": "code",
   "execution_count": null,
   "metadata": {},
   "outputs": [],
   "source": [
    "from sklearn.metrics import classification_report,f1_score\n",
    "\n",
    "print(f1_score(y_test,predicted_main>.55,average='samples'))"
   ]
  },
  {
   "cell_type": "markdown",
   "metadata": {},
   "source": [
    "Viewing classification report:-"
   ]
  },
  {
   "cell_type": "code",
   "execution_count": null,
   "metadata": {},
   "outputs": [],
   "source": [
    "print(classification_report(y_test,predicted_main>.55))"
   ]
  },
  {
   "cell_type": "markdown",
   "metadata": {},
   "source": [
    "Other results"
   ]
  },
  {
   "cell_type": "code",
   "execution_count": null,
   "metadata": {},
   "outputs": [],
   "source": [
    "test.iloc[17] #random result"
   ]
  },
  {
   "cell_type": "code",
   "execution_count": null,
   "metadata": {},
   "outputs": [],
   "source": [
    "predicted_main[17].round(decimals = 2)"
   ]
  },
  {
   "cell_type": "code",
   "execution_count": null,
   "metadata": {},
   "outputs": [],
   "source": [
    "print (labels)"
   ]
  }
 ],
 "metadata": {
  "kernelspec": {
   "display_name": "Python 3",
   "language": "python",
   "name": "python3"
  },
  "language_info": {
   "codemirror_mode": {
    "name": "ipython",
    "version": 3
   },
   "file_extension": ".py",
   "mimetype": "text/x-python",
   "name": "python",
   "nbconvert_exporter": "python",
   "pygments_lexer": "ipython3",
   "version": "3.8.5"
  }
 },
 "nbformat": 4,
 "nbformat_minor": 4
}
